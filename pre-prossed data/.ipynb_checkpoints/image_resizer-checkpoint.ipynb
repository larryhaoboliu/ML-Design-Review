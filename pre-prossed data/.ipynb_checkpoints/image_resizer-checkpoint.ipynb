{
 "cells": [
  {
   "cell_type": "code",
   "execution_count": 19,
   "id": "7ca3992b-0633-48e6-9771-c6fdf1382b7c",
   "metadata": {},
   "outputs": [],
   "source": [
    "# image resizer to 224x224 for model analysis\n",
    "## import libraries\n",
    "from PIL import Image\n",
    "from pathlib import Path\n",
    "import os"
   ]
  },
  {
   "cell_type": "code",
   "execution_count": 17,
   "id": "6d06f49d-29b3-42e9-9b99-fe2bbb8f64d4",
   "metadata": {},
   "outputs": [],
   "source": [
    "# Input and output directories\n",
    "folder_path = \"/Users/haobo2022/Documents/ML-Design-Review/data\"\n",
    "output_folder_path = \"/Users/haobo2022/Documents/ML-Design-Review/resized_data\"\n",
    "\n",
    "# Create the output directory if it doesn't exist\n",
    "os.makedirs(output_folder_path, exist_ok=True)\n",
    "\n",
    "# Define new size for resizing\n",
    "new_size = (224, 224)\n",
    "\n",
    "# Iterate over all .jpg files in the input directory\n",
    "pathlist = Path(folder_path).glob('*.jpg')\n",
    "for path in pathlist:\n",
    "    with Image.open(str(path)) as image:\n",
    "        # Convert RGBA images to RGB\n",
    "        if image.mode == 'RGBA':\n",
    "            image = image.convert('RGB')\n",
    "        resized_image = image.resize(new_size)  # Resize the image\n",
    "        # Save the image to the output directory with the same name\n",
    "        resized_image.save(os.path.join(output_folder_path, path.name), format='JPEG')"
   ]
  },
  {
   "cell_type": "code",
   "execution_count": null,
   "id": "4dc0141e-fbc0-474b-8ef1-e1bf3b794dc2",
   "metadata": {},
   "outputs": [],
   "source": []
  },
  {
   "cell_type": "code",
   "execution_count": null,
   "id": "488963bb-9c33-48c1-8549-438b74648829",
   "metadata": {},
   "outputs": [],
   "source": []
  },
  {
   "cell_type": "code",
   "execution_count": null,
   "id": "31c14f03-62cb-44c2-ace4-4179d3612a86",
   "metadata": {},
   "outputs": [],
   "source": []
  },
  {
   "cell_type": "code",
   "execution_count": null,
   "id": "dd9421cd-7b48-4e78-ba35-3c9d3f1e3d55",
   "metadata": {},
   "outputs": [],
   "source": []
  }
 ],
 "metadata": {
  "kernelspec": {
   "display_name": "Python 3 (ipykernel)",
   "language": "python",
   "name": "python3"
  },
  "language_info": {
   "codemirror_mode": {
    "name": "ipython",
    "version": 3
   },
   "file_extension": ".py",
   "mimetype": "text/x-python",
   "name": "python",
   "nbconvert_exporter": "python",
   "pygments_lexer": "ipython3",
   "version": "3.11.7"
  }
 },
 "nbformat": 4,
 "nbformat_minor": 5
}
